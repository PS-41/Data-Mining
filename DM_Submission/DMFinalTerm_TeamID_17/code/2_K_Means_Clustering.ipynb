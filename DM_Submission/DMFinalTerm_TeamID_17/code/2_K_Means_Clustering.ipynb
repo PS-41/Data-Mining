{
 "cells": [
  {
   "cell_type": "markdown",
   "metadata": {},
   "source": [
    "# K Means Clustering"
   ]
  },
  {
   "cell_type": "markdown",
   "metadata": {},
   "source": [
    "Importing the required libraries"
   ]
  },
  {
   "cell_type": "code",
   "execution_count": 1,
   "metadata": {},
   "outputs": [],
   "source": [
    "import pandas as pd\n",
    "import matplotlib.pyplot as plt\n",
    "import os"
   ]
  },
  {
   "cell_type": "markdown",
   "metadata": {},
   "source": [
    "Calculating distance between two datapoints"
   ]
  },
  {
   "cell_type": "code",
   "execution_count": 2,
   "metadata": {},
   "outputs": [],
   "source": [
    "# Function to return the distance between two datapoints\n",
    "def dist(a, b):\n",
    "\ts = 0\n",
    "\tfor i in range(len(a)):\n",
    "\t\ts += abs(a[i] - b[i])\n",
    "\treturn s"
   ]
  },
  {
   "cell_type": "markdown",
   "metadata": {},
   "source": [
    "Calculating Mean"
   ]
  },
  {
   "cell_type": "code",
   "execution_count": 3,
   "metadata": {},
   "outputs": [],
   "source": [
    "# Function to return the mean of set of datapoints\n",
    "def mean(a):\n",
    "\tm = []\n",
    "\tfor i in range(len(a[0])):\n",
    "\t\ts = 0\n",
    "\t\tfor j in range(len(a)):\n",
    "\t\t\ts += a[j][i]\n",
    "\t\tm.append(s / len(a))\n",
    "\treturn m"
   ]
  },
  {
   "cell_type": "markdown",
   "metadata": {},
   "source": [
    "One Hot Encoding to make the dataset ready to be fed to the K Means Clustering algorithm"
   ]
  },
  {
   "cell_type": "code",
   "execution_count": 4,
   "metadata": {},
   "outputs": [],
   "source": [
    "# Function to perform One Hot Encoding that is binarization of each column\n",
    "# This function makes the dataset ready to be fed to the KMeans Clustering algorithm\n",
    "def OneHotEncoding(X):\n",
    "\tglobal onehotX\n",
    "\tonehotX = []\n",
    "\tfor i in range(len(X)):\n",
    "\t\ttmp1 = [0] * 6\n",
    "\t\tfor j in range(6): \n",
    "\t\t\tif X[i][0].lower() == season[j].lower():\n",
    "\t\t\t\ttmp1[j] = 1\n",
    "\t\t\t\tbreak\n",
    "\t\ttmp2 = [0] * 6\n",
    "\t\tfor j in range(6): \n",
    "\t\t\tif X[i][1].lower() == soil[j].lower():\n",
    "\t\t\t\ttmp2[j] = 1\n",
    "\t\t\t\tbreak\n",
    "\t\ttmp3 = [0] * 5\n",
    "\t\tfor j in range(5): \n",
    "\t\t\tif X[i][2].lower() == rainfall[j].lower():\n",
    "\t\t\t\ttmp3[j] = 1\n",
    "\t\t\t\tbreak\n",
    "\n",
    "\t\ttmp = []\n",
    "\t\tfor j in tmp1: tmp.append(j)\n",
    "\t\tfor j in tmp2: tmp.append(j)\n",
    "\t\tfor j in tmp3: tmp.append(j)\n",
    "\t\tonehotX.append(tuple(tmp))"
   ]
  },
  {
   "cell_type": "markdown",
   "metadata": {},
   "source": [
    "K Means Clustering Algorithm"
   ]
  },
  {
   "cell_type": "code",
   "execution_count": 5,
   "metadata": {},
   "outputs": [],
   "source": [
    "# Function that implements K_Means Clustering Algorithm\n",
    "# Returns a dictionary where key is the datapoint and value is the cluster it belongs to\n",
    "def K_Means(onehotX):\n",
    "\tglobal m\n",
    "\trndm =  [8, 3, 73, 30, 51, 71, 17, 58, 19, 74, 21, 46]\n",
    "\tfor i in rndm:\n",
    "\t\tm.append(onehotX[i])\n",
    "\tcount = 0\n",
    "\tfor I in range(100):\n",
    "\t\tcount -= -1\n",
    "\t\tc = {}\n",
    "\t\tfor i in range(len(onehotX)):\n",
    "\t\t\tind = 0\n",
    "\t\t\tmn = 20\n",
    "\t\t\tfor j in range(12):\n",
    "\t\t\t\tif dist(onehotX[i], m[j]) < mn:\n",
    "\t\t\t\t\tmn = dist(onehotX[i], m[j])\n",
    "\t\t\t\t\tind = j\n",
    "\t\t\tc[onehotX[i]] = ind\n",
    "\t\tm2 = []\n",
    "\t\tfor i in range(12):\n",
    "\t\t\tttt = []\n",
    "\t\t\tfor j in c:\n",
    "\t\t\t\tif c[j] == i: ttt.append(j)\n",
    "\t\t\tm2.append(mean(ttt))\n",
    "\t\tif m2 == m: break\n",
    "\t\tm = m2\n",
    "\treturn c"
   ]
  },
  {
   "cell_type": "markdown",
   "metadata": {},
   "source": [
    "Reading the data and calling the required functions to perform K Means Clustering"
   ]
  },
  {
   "cell_type": "code",
   "execution_count": 6,
   "metadata": {},
   "outputs": [],
   "source": [
    "filepath = os.path.join('..','data','7_Preprocess_Final.csv')\n",
    "DF = pd.read_csv(filepath)\n",
    "\n",
    "df = DF[['Season', 'Soil Type', 'Rainfall_Disc']]\n",
    "\n",
    "DF = DF[['Season', 'Crop', 'Soil Type', 'Rainfall_Disc', 'Yield_Disc']]\n",
    "\n",
    "X = df.iloc[:, : ].values\n",
    "\n",
    "df = DF[['Crop', 'Yield_Disc']]\n",
    "cr = df.iloc[:, : ].values\n",
    "\n",
    "# cpp is a list of list where inner list contains crop and yield of each row\n",
    "cpp = []\n",
    "for i in cr: cpp.append(i.tolist())\n",
    "\n",
    "# ans contains list which contains each element of cpp and the cluster it belongs to\n",
    "ans = []\n",
    "\n",
    "# crop is a list of all unique crops in the dataset\n",
    "crop = DF['Crop'].unique()\n",
    "\n",
    "# season is a list of all unique seasons in the dataset\n",
    "season = DF['Season'].unique()\n",
    "\n",
    "# soil is a list of all unique types of soil in the dataset\n",
    "soil = DF['Soil Type'].unique()\n",
    "\n",
    "# rainfall is a list of all unique types of rainfall in the dataset\n",
    "rainfall = DF['Rainfall_Disc'].unique()\n",
    "\n",
    "# onehotX is a list. It is basically One Hot Encoding where each column is binarized to apply KMeans Clustering algorithm\n",
    "onehotX = []\n",
    "\n",
    "OneHotEncoding(X)\n",
    "\n",
    "onehotX2 = []\n",
    "for i in onehotX: onehotX2.append(i)\n",
    "\n",
    "onehotX = list(set(onehotX))\n",
    "\n",
    "clscropyield = []\n",
    "\n",
    "# m contains the final mean of each cluster\n",
    "m = []\n",
    "\n",
    "# c is a dictionary where the key is the datapoint and the value is the cluster it belongs to\n",
    "c = K_Means(onehotX)\n",
    "\n",
    "\n",
    "for i in range(len(onehotX2)):\n",
    "\tans.append([cpp[i], c[onehotX2[i]]])\n",
    "\n",
    "rain = ['Very_High', 'High', 'Medium', 'Low', 'Very_Low']"
   ]
  },
  {
   "cell_type": "markdown",
   "metadata": {},
   "source": [
    "Taking input from the user and providing the crops that are most suitable to be grown based on the input conditions"
   ]
  },
  {
   "cell_type": "code",
   "execution_count": 12,
   "metadata": {},
   "outputs": [
    {
     "name": "stdout",
     "output_type": "stream",
     "text": [
      "Please provide the conditions so that we can suggest suitable crops to grow\n",
      "\n",
      "Enter 1 to 6 corresponding to your choice of season:\n",
      "1 Kharif\n",
      "2 Summer\n",
      "3 Whole Year\n",
      "4 Rabi\n",
      "5 Winter\n",
      "6 Autumn\n",
      "1\n",
      "\n",
      "Enter 1 to 6 corresponding to your choice of soil type:\n",
      "1 Alluvial\n",
      "2 Black\n",
      "3 Red\n",
      "4 Mountain\n",
      "5 Laterite\n",
      "6 Arid\n",
      "1\n",
      "\n",
      "Enter 1 to 5 corresponding to your choice of rainfall:\n",
      "1 Very_High\n",
      "2 High\n",
      "3 Medium\n",
      "4 Low\n",
      "5 Very_Low\n",
      "3\n",
      "\n",
      "The following crop(s) give(s) a Very High Yield:\n",
      "{'Orange', 'Ginger', 'Papaya', 'Pineapple'}\n",
      "\n",
      "The following crop(s) give(s) High Yield as well:\n",
      "{'Tapioca'}\n",
      "\n"
     ]
    }
   ],
   "source": [
    "# Taking user input and checking for invalid inputs\n",
    "print(\"Please provide the conditions so that we can suggest suitable crops to grow\")\n",
    "print()\t\n",
    "print(\"Enter 1 to 6 corresponding to your choice of season:\\n1 Kharif\\n2 Summer\\n3 Whole Year\\n4 Rabi\\n5 Winter\\n6 Autumn\")\n",
    "ch1 = 0\n",
    "ch2 = 0\n",
    "ch3 = 0\n",
    "tempo = input()\n",
    "if len(tempo) > 1 or tempo == '':\n",
    "\tch1 = 1\n",
    "elif ord(tempo) < 49 or ord(tempo) > 54:\n",
    "\tch1 = 1\n",
    "if ch1 == 0: inp_season = season[int(tempo) - 1]\n",
    "\n",
    "print(\"\\nEnter 1 to 6 corresponding to your choice of soil type:\\n1 Alluvial\\n2 Black\\n3 Red\\n4 Mountain\\n5 Laterite\\n6 Arid\")\n",
    "tempo = input()\n",
    "if len(tempo) > 1 or tempo == '':\n",
    "\tch2 = 1\n",
    "elif ord(tempo) < 49 or ord(tempo) > 54:\n",
    "\tch2 = 1\n",
    "if ch2 == 0: inp_soil = soil[int(tempo) - 1]\n",
    "\n",
    "print(\"\\nEnter 1 to 5 corresponding to your choice of rainfall:\\n1 Very_High\\n2 High\\n3 Medium\\n4 Low\\n5 Very_Low\")\n",
    "tempo = input()\n",
    "if len(tempo) > 1 or tempo == '':\n",
    "\tch3 = 1\n",
    "elif ord(tempo) < 49 or ord(tempo) > 53:\n",
    "\tch3 = 1\n",
    "if ch3 == 0: inp_rainfall = rain[int(tempo) - 1]\n",
    "print()\n",
    "\n",
    "\n",
    "if ch1 or ch2 or ch3:\n",
    "\tprint(\"Invalid Input\")\n",
    "else:\n",
    "\tY = [[inp_season, inp_soil, inp_rainfall]]\n",
    "\n",
    "\tOneHotEncoding(Y)\n",
    "\n",
    "\n",
    "\t# Calculating the cluster which the input points belong to\n",
    "\tmn = 20\n",
    "\tfor i in range(12):\n",
    "\t\tif dist(onehotX[0], m[i]) < mn:\n",
    "\t\t\tmn = dist(onehotX[0], m[i])\n",
    "\t\t\tpredicted_class = i\n",
    "\n",
    "\n",
    "\t# Each of the five lists below contains the crops with the particular yield as indicated in the name\n",
    "\tvery_high_yield = []\n",
    "\thigh_yield = []\n",
    "\tmedium_yield = []\n",
    "\tlow_yield = []\n",
    "\tvery_low_yield = []\n",
    "\n",
    "\tfor i in ans:\n",
    "\t\tif i[1] == predicted_class:\t\n",
    "\t\t\tif i[0][1] == 'Very_High': very_high_yield.append(i[0][0])\n",
    "\t\t\telif i[0][1] == 'High': high_yield.append(i[0][0])\n",
    "\t\t\telif i[0][1] == 'Medium': medium_yield.append(i[0][0])\n",
    "\t\t\telif i[0][1] == 'Low': low_yield.append(i[0][0])\n",
    "\t\t\telif i[0][1] == 'Very_Low': very_low_yield.append(i[0][0])\n",
    "\n",
    "\tvery_high_yield = set(very_high_yield)\n",
    "\n",
    "\thigh_yield = set(high_yield)\n",
    "\n",
    "\tmedium_yield = set(medium_yield)\n",
    "\n",
    "\tvery_low_yield = set(very_low_yield)\n",
    "\n",
    "\tlow_yield = set(low_yield)\n",
    "\n",
    "\n",
    "\n",
    "\t# The crops with very high yield are only those which never give very low yield or low yield and so.\n",
    "\t# This step more or less removes the possibility that high yield of the crop was because of artificial water supply\n",
    "\tvery_high_yield -= very_low_yield\n",
    "\tvery_high_yield -= low_yield\n",
    "\tvery_high_yield -= high_yield\n",
    "\tvery_high_yield -= medium_yield\n",
    "\n",
    "\thigh_yield -= very_low_yield\n",
    "\thigh_yield -= medium_yield\n",
    "\n",
    "\n",
    "\t# Output\n",
    "\tprint(\"The following crop(s) give(s) a Very High Yield:\")\n",
    "\tprint(very_high_yield)\n",
    "\tprint()\n",
    "\n",
    "\tif len(high_yield) > 0:\n",
    "\t\tprint(\"The following crop(s) give(s) High Yield as well:\")\n",
    "\t\tprint(high_yield)\n",
    "\t\tprint()"
   ]
  },
  {
   "cell_type": "markdown",
   "metadata": {},
   "source": [
    "## Analysing the clusters"
   ]
  },
  {
   "cell_type": "code",
   "execution_count": 8,
   "metadata": {},
   "outputs": [],
   "source": [
    "# clusters, dictionary key= cluster number, value = list of crops of that cluster\n",
    "clusters = dict()\n",
    "total = 0\n",
    "for _, (crop, cluster) in enumerate(ans):\n",
    "    if cluster not in clusters.keys():\n",
    "        clusters[cluster] = []\n",
    "    \n",
    "    clusters[cluster].append(crop[0])\n",
    "\n",
    "for i in clusters.keys():\n",
    "    total += len(clusters[i])\n",
    "\n",
    "# distribution of clusters\n",
    "cluster_sizes = dict()\n",
    "for i in clusters.keys():\n",
    "    if i not in cluster_sizes.keys():\n",
    "        cluster_sizes[i] = 0\n",
    "    \n",
    "    cluster_sizes[i] = len(clusters[i])/total\n",
    "\n",
    "# converting to list for plotting\n",
    "labels = list(cluster_sizes.keys())\n",
    "labels = [\"Cluster\"+str(i+1) for i in labels]\n",
    "distribution = []\n",
    "for i in labels:\n",
    "    i = int(i[7:])-1\n",
    "    distribution.append(cluster_sizes[i])\n",
    "\n"
   ]
  },
  {
   "cell_type": "markdown",
   "metadata": {},
   "source": [
    "## Cluster Crop Distribution"
   ]
  },
  {
   "cell_type": "code",
   "execution_count": 9,
   "metadata": {},
   "outputs": [
    {
     "data": {
      "image/png": "[encoded data removed]",
      "text/plain": [
       "<Figure size 432x432 with 1 Axes>"
      ]
     },
     "metadata": {},
     "output_type": "display_data"
    }
   ],
   "source": [
    "crop_distribution = []\n",
    "unique_crops = len(set(DF.Crop))\n",
    "for i in labels:\n",
    "    i = int(i[7:])-1\n",
    "    crop_distribution.append(len(set(clusters[i]))/unique_crops)\n",
    "    \n",
    "fig2, ax2 = plt.subplots(figsize=(6, 6))\n",
    "ax2.pie(crop_distribution, labels=labels, autopct='%1.1f%%', shadow=True, startangle=90)\n",
    "ax2.axis('equal')\n",
    "plt.title(\"Cluster Crop Distribution\")\n",
    "plt.tight_layout()\n",
    "plt.savefig(\"../plots/KMeans/Cluster-Crop-Distribution.png\")\n",
    "plt.show()\n"
   ]
  },
  {
   "cell_type": "markdown",
   "metadata": {},
   "source": [
    "## Crop Specificity"
   ]
  },
  {
   "cell_type": "code",
   "execution_count": 10,
   "metadata": {},
   "outputs": [
    {
     "data": {
      "image/png": "[encoded data removed]",
      "text/plain": [
       "<Figure size 432x432 with 1 Axes>"
      ]
     },
     "metadata": {},
     "output_type": "display_data"
    }
   ],
   "source": [
    "mod_ans = []\n",
    "for i, ((crop, yieldv), _) in enumerate(ans):\n",
    "    if yieldv == \"Very_High\":\n",
    "        mod_ans.append(ans[i])\n",
    "\n",
    "crop_yield_distribution=[]\n",
    "yield_cluster = dict()\n",
    "for i, ((crop, _), cluster) in enumerate(mod_ans):\n",
    "    if crop not in yield_cluster.keys():\n",
    "        yield_cluster[crop] = []\n",
    "    \n",
    "    yield_cluster[crop].append(cluster)\n",
    "\n",
    "yield_crop_labels = list(yield_cluster.keys())\n",
    "for i in yield_crop_labels:\n",
    "    crop_yield_distribution.append(len(set(yield_cluster[i])))\n",
    "\n",
    "specificity = []\n",
    "max_thresh = 3\n",
    "min_thresh = 0\n",
    "for i in range(5):\n",
    "    tmp = []\n",
    "    for j, crop in enumerate(crop_yield_distribution):\n",
    "        if crop >= min_thresh and crop < max_thresh:\n",
    "            tmp.append(j)\n",
    "    min_thresh = max_thresh\n",
    "    max_thresh += 3\n",
    "    specificity.append(tmp)\n",
    "\n",
    "speficity_labels = ['Very Specific', 'Moderately Specific', 'Balanced', 'Moderately General', 'Generic']\n",
    "specificity = [(len(i)/12) for i in specificity]\n",
    "\n",
    "\n",
    "fig23, ax3 = plt.subplots(figsize=(6, 6))\n",
    "ax3.pie(specificity, labels=speficity_labels, autopct='%1.1f%%', shadow=True, startangle=90)\n",
    "ax3.axis('equal')\n",
    "plt.title(\"Crop Specificity\")\n",
    "plt.tight_layout()\n",
    "plt.savefig(\"../plots/KMeans/Crop-Specificity.png\")\n",
    "plt.show()"
   ]
  },
  {
   "cell_type": "code",
   "execution_count": null,
   "metadata": {},
   "outputs": [],
   "source": []
  }
 ],
 "metadata": {
  "kernelspec": {
   "display_name": "Python 3",
   "language": "python",
   "name": "python3"
  },
  "language_info": {
   "codemirror_mode": {
    "name": "ipython",
    "version": 3
   },
   "file_extension": ".py",
   "mimetype": "text/x-python",
   "name": "python",
   "nbconvert_exporter": "python",
   "pygments_lexer": "ipython3",
   "version": "3.6.5"
  }
 },
 "nbformat": 4,
 "nbformat_minor": 2
}
