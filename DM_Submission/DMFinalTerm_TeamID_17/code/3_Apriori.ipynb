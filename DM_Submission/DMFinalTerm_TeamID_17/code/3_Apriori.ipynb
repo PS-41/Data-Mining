{
 "cells": [
  {
   "cell_type": "markdown",
   "metadata": {},
   "source": [
    "# Applying Apriori on the preprocessed dataset"
   ]
  },
  {
   "cell_type": "code",
   "execution_count": 1,
   "metadata": {},
   "outputs": [],
   "source": [
    "# importing libraries\n",
    "import os\n",
    "import pandas as pd\n",
    "# global frequency dictionary to store frequency of each row of dataset\n",
    "frequency = {}"
   ]
  },
  {
   "cell_type": "code",
   "execution_count": 2,
   "metadata": {},
   "outputs": [],
   "source": [
    "filepath = os.path.join('..','data','7_Preprocess_Final.csv')\n",
    "df = pd.read_csv(filepath, usecols=[\"Season\", \"Crop\", \"Soil Type\", \"Rainfall_Disc\", \"Yield_Disc\"])\n",
    "df = df.reindex(columns=[\"Season\", \"Soil Type\", \"Rainfall_Disc\",\"Crop\", \"Yield_Disc\"])\n",
    "for j, col in enumerate(df.columns):\n",
    "    for i, val in enumerate(df[col]):\n",
    "        df.at[i, col] = str(j) + ' ' + col + ' = ' + val\n",
    "fp2 = os.path.join('..','data','AprioriInput.csv')\n",
    "df.to_csv(fp2, index=False)"
   ]
  },
  {
   "cell_type": "code",
   "execution_count": 3,
   "metadata": {},
   "outputs": [],
   "source": [
    "def loadDataSet():\n",
    "    # reads the dataset and converts it into list of list\n",
    "    \n",
    "    df = pd.read_csv(fp2)\n",
    "    records = df.values.tolist()\n",
    "    for i in range(len(records)):\n",
    "        records[i] = frozenset(records[i])\n",
    "        if records[i] in frequency:\n",
    "            frequency[records[i]] += 1\n",
    "        else:\n",
    "            frequency[records[i]] = 1\n",
    "    return list(set(records))"
   ]
  },
  {
   "cell_type": "code",
   "execution_count": 4,
   "metadata": {},
   "outputs": [],
   "source": [
    "def createC1(dataSet):\n",
    "    # creates c1 that is candidate item set of size 1\n",
    "    \n",
    "    C1 = set()\n",
    "    for trans in dataSet:\n",
    "        for item in trans:\n",
    "            C1.add(frozenset([item]))\n",
    "    return list(C1)"
   ]
  },
  {
   "cell_type": "code",
   "execution_count": 5,
   "metadata": {},
   "outputs": [],
   "source": [
    "def createLK(DS, Ck, minSupport):\n",
    "    # creates Lk from Ck by removing those candidate sets\n",
    "    # which have support less than min support and returns\n",
    "    # Lk and a dictionary with support count\n",
    "    \n",
    "    sup_count = {}\n",
    "    for trans in DS:\n",
    "        for can in Ck:\n",
    "            if can.issubset(trans):\n",
    "                if can in sup_count:\n",
    "                    sup_count[can] += frequency[trans]\n",
    "                else:\n",
    "                    sup_count[can] = frequency[trans]\n",
    "    supportData = {}\n",
    "    Lk = []\n",
    "    for key in sup_count:\n",
    "        support = sup_count[key]\n",
    "        if support >= minSupport: # if it passes the min threshold\n",
    "            Lk.insert(0, key)     # insert it in Lk\n",
    "            supportData[key] = support\n",
    "    return Lk, supportData"
   ]
  },
  {
   "cell_type": "code",
   "execution_count": 6,
   "metadata": {},
   "outputs": [],
   "source": [
    "def aprioriGen(Lkm1, k):\n",
    "    # returns Ck from Lk-1 by union of those frequent\n",
    "    # sets which have k-2 items equal\n",
    "\n",
    "    Ck = []\n",
    "    for i in range(len(Lkm1)):\n",
    "        for j in range(i+1, len(Lkm1)):\n",
    "            x = list(Lkm1[i])\n",
    "            y = list(Lkm1[j])\n",
    "            x.sort()\n",
    "            y.sort()\n",
    "            L1 = x[:k-2]\n",
    "            L2 = y[:k-2]\n",
    "            L1.sort()\n",
    "            L2.sort()\n",
    "            if L1 == L2:  # if first k-2 elements are equal\n",
    "                Ck.append(Lkm1[i] | Lkm1[j])  # set union\n",
    "    return Ck"
   ]
  },
  {
   "cell_type": "code",
   "execution_count": 7,
   "metadata": {},
   "outputs": [],
   "source": [
    "def apriori(dataSet, minSupport):\n",
    "    # returns a list of frequent itemsets and\n",
    "    # dictionary of support counts for those itemsets\n",
    "\n",
    "    C1 = createC1(dataSet)\n",
    "    L1, supportData = createLK(dataSet, C1, minSupport)\n",
    "    L = [L1]\n",
    "    k = 0\n",
    "    while (len(L[k]) > 0):\n",
    "        Ck = aprioriGen(L[k], k+2)\n",
    "        Lk, supK = createLK(dataSet, Ck, minSupport)\n",
    "        supportData.update(supK)\n",
    "        L.append(Lk)\n",
    "        k += 1\n",
    "    return L, supportData"
   ]
  },
  {
   "cell_type": "code",
   "execution_count": 8,
   "metadata": {},
   "outputs": [],
   "source": [
    "def generateRules(itemsets, supportData, minConf):\n",
    "    # main rule gen function that generates and returns interesting\n",
    "    # association rules that passed the confidence threshold\n",
    "\n",
    "    Assoc_rules = {} # rules are stored in dictionary with antecedent as key and consequent and confidence as value\n",
    "    for itemset in itemsets:\n",
    "        sup_tot = supportData[frozenset(itemset)] # entire rule\n",
    "        ante = frozenset(itemset[:3]) # antecedent\n",
    "        sup_ante = supportData[ante]\n",
    "        conf = sup_tot/sup_ante # conf = sup(rule) / sup(antecedent)\n",
    "        if(conf >= minConf): # if confidence passes the min threshold add it to the rules\n",
    "            if ante in Assoc_rules:\n",
    "                Assoc_rules[ante].append([itemset[-2], itemset[-1], conf])\n",
    "            else :\n",
    "                Assoc_rules[ante] = [[itemset[-2], itemset[-1], conf]]\n",
    "    return Assoc_rules"
   ]
  },
  {
   "cell_type": "markdown",
   "metadata": {},
   "source": [
    "Load the dataset and get the frequent itemset list by calling apriori function"
   ]
  },
  {
   "cell_type": "code",
   "execution_count": 9,
   "metadata": {
    "scrolled": true
   },
   "outputs": [],
   "source": [
    "ds = loadDataSet() # load the dataset\n",
    "minsup = 50 # set the minimum support\n",
    "l, s = apriori(ds, minsup) # call apriori to get the frequent itemset and support count"
   ]
  },
  {
   "cell_type": "markdown",
   "metadata": {},
   "source": [
    "Get the item sets of size 5 and generate rules from them"
   ]
  },
  {
   "cell_type": "code",
   "execution_count": 10,
   "metadata": {},
   "outputs": [],
   "source": [
    "for i in range(len(l[4])): # l[4] has frequent itemsets of size 5 (0 indexed)\n",
    "    l[4][i] = list(l[4][i])\n",
    "    l[4][i].sort()\n",
    "minConf = 0.02 # set the minimum confidence\n",
    "rules = generateRules(l[4],s,minConf) # call generateRules to generate the rules"
   ]
  },
  {
   "cell_type": "markdown",
   "metadata": {},
   "source": [
    "We now define a mapping which eases our work of sorting our results on the basis of yield "
   ]
  },
  {
   "cell_type": "code",
   "execution_count": 11,
   "metadata": {},
   "outputs": [],
   "source": [
    "mapping = {}\n",
    "mapping['4 Yield_Disc = Very_Low'] = 0\n",
    "mapping['4 Yield_Disc = Low'] = 1\n",
    "mapping['4 Yield_Disc = Medium'] = 2\n",
    "mapping['4 Yield_Disc = High'] = 3\n",
    "mapping['4 Yield_Disc = Very_High'] = 4"
   ]
  },
  {
   "cell_type": "markdown",
   "metadata": {},
   "source": [
    "The give_crops function requires the season, soil type and the rainfall as the inputs and it gives a set of suggested crops sorted on the basis of the yield."
   ]
  },
  {
   "cell_type": "code",
   "execution_count": 12,
   "metadata": {},
   "outputs": [],
   "source": [
    "def give_crops(season,soil,rainfall):  \n",
    "    key = frozenset([season, soil, rainfall])\n",
    "    if(key not in rules):\n",
    "        return \"No Crops Found :(\"\n",
    "    crops = rules[key]\n",
    "    crops = sorted(crops, key=lambda x: mapping[x[1]], reverse=True)\n",
    "    ans = set()\n",
    "    flag = False\n",
    "    for crop in crops:\n",
    "        if mapping[crop[1]] < 2:\n",
    "            break;\n",
    "        elif mapping[crop[1]] > 2:\n",
    "            ans.add(crop[0][9:])\n",
    "        elif flag or len(ans) < 5:\n",
    "            flag = True\n",
    "            ans.add(crop[0][9:])\n",
    "    if len(ans) == 0:\n",
    "        return \"No Crops Found :(\"\n",
    "    return ans"
   ]
  },
  {
   "cell_type": "markdown",
   "metadata": {},
   "source": [
    "Take season, soil and rainfall as input from the user and\n",
    "output the crops with high yield using the above rules"
   ]
  },
  {
   "cell_type": "code",
   "execution_count": 18,
   "metadata": {
    "scrolled": true
   },
   "outputs": [
    {
     "name": "stdout",
     "output_type": "stream",
     "text": [
      "Please provide the conditions so that we can suggest suitable crops to grow\n",
      "\n",
      "Enter 1 to 6 corresponding to your choice of season:\n",
      "1 Kharif\n",
      "2 Summer\n",
      "3 Whole Year\n",
      "4 Rabi\n",
      "5 Winter\n",
      "6 Autumn\n",
      "1\n",
      "\n",
      "Enter 1 to 6 corresponding to your choice of soil type:\n",
      "1 Alluvial\n",
      "2 Black\n",
      "3 Red\n",
      "4 Mountain\n",
      "5 Laterite\n",
      "6 Arid\n",
      "1\n",
      "\n",
      "Enter 1 to 5 corresponding to your choice of rainfall:\n",
      "1 Very_High\n",
      "2 High\n",
      "3 Medium\n",
      "4 Low\n",
      "5 Very_Low\n",
      "3\n",
      "\n",
      "{'Sugarcane', 'Jute', 'Mesta', 'Rice', 'Bajra'}\n"
     ]
    }
   ],
   "source": [
    "# Taking user input\n",
    "try:\n",
    "    print(\"Please provide the conditions so that we can suggest suitable crops to grow\\n\")\n",
    "    print(\"Enter 1 to 6 corresponding to your choice of season:\\n1 Kharif\\n2 Summer\\n3 Whole Year\\n4 Rabi\\n5 Winter\\n6 Autumn\")\n",
    "    x = int(input()) - 1\n",
    "    if x < 0:\n",
    "        raise Exception()\n",
    "    season = '0 Season = ' + ['Kharif','Summer','Whole Year','Rabi','Winter','Autumn'][x]\n",
    "    print(\"\\nEnter 1 to 6 corresponding to your choice of soil type:\\n1 Alluvial\\n2 Black\\n3 Red\\n4 Mountain\\n5 Laterite\\n6 Arid\")\n",
    "    x = int(input()) - 1\n",
    "    if x < 0:\n",
    "        raise Exception()\n",
    "    soil = '1 Soil Type = ' + ['Alluvial','Black','Red','Mountain','Laterite','Arid'][x]\n",
    "    print(\"\\nEnter 1 to 5 corresponding to your choice of rainfall:\\n1 Very_High\\n2 High\\n3 Medium\\n4 Low\\n5 Very_Low\")\n",
    "    x = int(input()) - 1\n",
    "    if x < 0:\n",
    "        raise Exception()\n",
    "    rainfall = '2 Rainfall_Disc = ' + ['Very_High','High','Medium','Low','Very_Low'][x]\n",
    "    print()\n",
    "    print(give_crops(season, soil, rainfall))\n",
    "except:\n",
    "    print('\\nInvalid Input') #to handle wrong input"
   ]
  },
  {
   "cell_type": "code",
   "execution_count": null,
   "metadata": {},
   "outputs": [],
   "source": []
  }
 ],
 "metadata": {
  "kernelspec": {
   "display_name": "Python 3",
   "language": "python",
   "name": "python3"
  },
  "language_info": {
   "codemirror_mode": {
    "name": "ipython",
    "version": 3
   },
   "file_extension": ".py",
   "mimetype": "text/x-python",
   "name": "python",
   "nbconvert_exporter": "python",
   "pygments_lexer": "ipython3",
   "version": "3.6.5"
  }
 },
 "nbformat": 4,
 "nbformat_minor": 4
}
