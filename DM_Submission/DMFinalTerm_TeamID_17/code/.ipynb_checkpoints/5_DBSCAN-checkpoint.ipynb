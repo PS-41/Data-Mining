{
 "cells": [
  {
   "cell_type": "code",
   "execution_count": 1,
   "metadata": {},
   "outputs": [],
   "source": [
    "import pandas as pd\n",
    "import numpy as np\n",
    "import matplotlib.pyplot as plt\n",
    "import math \n",
    "import time"
   ]
  },
  {
   "cell_type": "code",
   "execution_count": 2,
   "metadata": {},
   "outputs": [],
   "source": [
    "# cosntants\n",
    "DATA = \"../data/7_Preprocess_Final.csv\"\n",
    "MIN_PTS = 3\n",
    "EPS = 1.5\n",
    "TMP_DATA = np.random.randint(0, 15, (10, 2))\n",
    "DISTANCE_METRIC = \"Euclidean\""
   ]
  },
  {
   "cell_type": "code",
   "execution_count": 3,
   "metadata": {},
   "outputs": [],
   "source": [
    "\n",
    "# Preprocess the data\n",
    "def process_data(data):\n",
    "    print(\"Processing data(one hot encoding)\")\n",
    "    df = pd.read_csv(data).values[:, :5]\n",
    "    n_columns = df.shape[1]\n",
    "    dtypeO = []\n",
    "    for i in range(n_columns):\n",
    "        if df[:, i].dtype == 'O':\n",
    "            dtypeO.append(i)\n",
    "            (_, index) = np.unique(df[:, i], return_index=True)\n",
    "            unique_labels = []\n",
    "            for j in index:\n",
    "                unique_labels.append(df[j, i])\n",
    "            dft = []\n",
    "            for j in unique_labels:\n",
    "                tmp = (df[:, i] == j).astype(int)\n",
    "                dft.append(tmp)\n",
    "            dft = np.array(dft)\n",
    "            dft = pd.DataFrame(dft.T, columns=unique_labels)\n",
    "            df = pd.concat([pd.DataFrame(df), dft], axis=1)\n",
    "            df = df.values\n",
    "    df = np.delete(df, np.array(dtypeO), axis = 1)\n",
    "    print(df)\n",
    "    return df\n",
    "\n",
    "class DBSCAN():\n",
    "    def __init__(self, data, minpts, eps):\n",
    "        self.data = data\n",
    "        self.minpts = minpts\n",
    "        self.eps = eps\n",
    "        self.cls = ['UNCLASSIFIED'] * (self.data.shape[0])\n",
    "        self.core, self.neighbors = self.core_neighbors()\n",
    "        self.n_clusters = 0\n",
    "        self.noise = []\n",
    "    \n",
    "    # get the core points and the nighbors of all the points\n",
    "    # core points = points whih hve >minpts in their eps neighborhood\n",
    "    def core_neighbors(self):\n",
    "        num_examples = self.data.shape[0]\n",
    "        neighbors = []\n",
    "        core = []\n",
    "        for i in range(num_examples):\n",
    "            d = []\n",
    "            for j in range(num_examples):\n",
    "                d.append(math.sqrt(np.sum((self.data[i]-self.data[j])**2)))\n",
    "            d = np.array(d)\n",
    "            d = d <= self.eps\n",
    "            n = []\n",
    "            for j, val in enumerate(d):\n",
    "                if val == True and j!=i:\n",
    "                    n.append(j)\n",
    "            \n",
    "            neighbors.append(n)\n",
    "            if(len(n) >= self.minpts):\n",
    "                core.append(i)\n",
    "                self.cls[i] = 'CLASSIFIED'\n",
    "        \n",
    "        return core, neighbors\n",
    "    \n",
    "    # get clusters formed just by core points\n",
    "    def get_basic_clusters(self, clusters):\n",
    "        for i in self.core:\n",
    "            if clusters[i] == -1:\n",
    "                clusters[i] = self.n_clusters + 1\n",
    "                self.n_clusters += 1\n",
    "            if self.cls[i] == 'UNCLASSIFIED' or self.cls[i] == 'NOISE':\n",
    "                self.cls[i] == 'CLASSIFIED'\n",
    "            tmp = self.neighbors[i]\n",
    "            for j in tmp:\n",
    "                self.cls[j] = 'CLASSIFIED'\n",
    "                clusters[j] = clusters[i]\n",
    "        \n",
    "    \n",
    "    # complete the clusters by including rest of the points\n",
    "    # that is recursive checks, if one point is classified\n",
    "    # then all it's neighbors are included and then their\n",
    "    # neighbors and so on.\n",
    "    def complete(self, clusters):        \n",
    "        classified = []\n",
    "        for i, val in enumerate(self.cls):\n",
    "            if val == 'CLASSIFIED':\n",
    "                classified.append(i)\n",
    "        \n",
    "        for i in classified:\n",
    "            tmp = self.neighbors[i]\n",
    "            for j in tmp:\n",
    "                self.cls[j] = 'CLASSIFIED'\n",
    "                clusters[j] = clusters[i]\n",
    "        \n",
    "        for i, val in enumerate(self.cls):\n",
    "            if val != 'CLASSIFIED':\n",
    "                self.noise.append(self.data[i])\n",
    "        \n",
    "        \n",
    "    def __call__(self):\n",
    "        if self.n_clusters !=0:\n",
    "            self.__init__(self.data, self.minpts, self.eps)\n",
    "        clusters = {i:-1 for i in range(len(self.neighbors))}\n",
    "        self.get_basic_clusters(clusters)\n",
    "        self.complete(clusters)\n",
    "        cluster_list = []\n",
    "        \n",
    "        for i in range(1, self.n_clusters+1):\n",
    "            tmp = []\n",
    "            for j in clusters.keys():\n",
    "                if clusters[j] == i:\n",
    "                    tmp.append(self.data[int(j)])\n",
    "            cluster_list.append(tmp)\n",
    "        \n",
    "        return np.array(cluster_list), np.array(self.noise)"
   ]
  },
  {
   "cell_type": "code",
   "execution_count": 4,
   "metadata": {
    "scrolled": false
   },
   "outputs": [],
   "source": [
    "clustersd = dict()\n",
    "array = np.array(\n",
    "    [[3, 3],\n",
    "    [3, 4],\n",
    "    [3, 5],\n",
    "    [3, 6],\n",
    "    [4, 6],\n",
    "    [5, 6],\n",
    "    [4, 10],\n",
    "    [6, 6],\n",
    "    [7, 6],\n",
    "    [7, 5],\n",
    "    [7, 4],\n",
    "    [7, 3],\n",
    "    [5, 2],\n",
    "    [5, 1],\n",
    "    [5, 0],\n",
    "    [6, 0], \n",
    "    [10, 20],\n",
    "    [1, 1]\n",
    "    ]\n",
    ")\n",
    "\n",
    "model = DBSCAN(array, minpts=2, eps=2)\n",
    "clusters, noise = model()\n"
   ]
  },
  {
   "cell_type": "code",
   "execution_count": 5,
   "metadata": {},
   "outputs": [
    {
     "data": {
      "image/png": "[encoded data removed]",
      "text/plain": [
       "<Figure size 432x432 with 1 Axes>"
      ]
     },
     "metadata": {
      "needs_background": "light"
     },
     "output_type": "display_data"
    }
   ],
   "source": [
    "import matplotlib.pyplot as plt\n",
    "\n",
    "fig, ax = plt.subplots(figsize=(6, 6))\n",
    "colormap = np.array([0, 0, 0])\n",
    "for k, val in enumerate([clusters, noise]):\n",
    "    if k == 0:\n",
    "        for index, i in enumerate(val):\n",
    "            x = [j[0] for j in i]\n",
    "            y = [j[1] for j in i]\n",
    "            ax.scatter(x, y, c=np.random.rand(3,), label=\"Cluster\"+str(index+1))\n",
    "    else:\n",
    "        ax.scatter(val[:, 0], val[:, 1], c='black', label=\"Noise\")\n",
    "plt.title(\"DBSCAN Plots\")\n",
    "legend = ax.legend(loc='upper center', shadow=True, fontsize='x-large')\n",
    "plt.savefig(\"../plots/DBSCAN/plo1.png\")"
   ]
  },
  {
   "cell_type": "markdown",
   "metadata": {},
   "source": [
    "# ON ACTUAL DATA\n",
    "\n",
    "## WARNING ON A 6 CORE I7-8750H, with 4.10GHz boost clock\n",
    "## It took more than 2 days to just get the basic clusters\n",
    "## after that laptop is shut down due to overheating\n",
    "## run at your own risk"
   ]
  },
  {
   "cell_type": "code",
   "execution_count": 6,
   "metadata": {},
   "outputs": [],
   "source": [
    "# data = process_data(DATA)\n",
    "# model = dbscan(DATA, minpts=1000, eps=3)\n",
    "# clusters, noise = model()"
   ]
  },
  {
   "cell_type": "code",
   "execution_count": null,
   "metadata": {},
   "outputs": [],
   "source": []
  }
 ],
 "metadata": {
  "kernelspec": {
   "display_name": "Python 3",
   "language": "python",
   "name": "python3"
  },
  "language_info": {
   "codemirror_mode": {
    "name": "ipython",
    "version": 3
   },
   "file_extension": ".py",
   "mimetype": "text/x-python",
   "name": "python",
   "nbconvert_exporter": "python",
   "pygments_lexer": "ipython3",
   "version": "3.6.5"
  }
 },
 "nbformat": 4,
 "nbformat_minor": 4
}
